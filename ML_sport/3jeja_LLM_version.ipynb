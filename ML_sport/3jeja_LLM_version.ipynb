{
  "cells": [
    {
      "cell_type": "code",
      "execution_count": null,
      "id": "530a16d2",
      "metadata": {
        "id": "530a16d2"
      },
      "outputs": [],
      "source": [
        "from litellm import completion\n",
        "import re\n",
        "from typing import Dict, List\n",
        "import json\n",
        "import csv\n"
      ]
    },
    {
      "cell_type": "code",
      "execution_count": null,
      "id": "6fad4008",
      "metadata": {
        "id": "6fad4008"
      },
      "outputs": [],
      "source": [
        "def generate_response(messages: List[Dict]) -> str:\n",
        "    \"\"\"Call LLM to get response\"\"\"\n",
        "     response = completion(\n",
        "        model=\"gemini/gemini-2.0-flash\",\n",
        "        messages=messages,\n",
        "        tools=tools,\n",
        "        max_tokens=512\n",
        "    )\n",
        "    return response.choices[0].message.content"
      ]
    },
    {
      "cell_type": "code",
      "execution_count": null,
      "id": "1b288874",
      "metadata": {
        "id": "1b288874"
      },
      "outputs": [],
      "source": [
        "def gen_events(new_tweets: List[str],events) -> Dict:\n",
        "    system_prompt = f\"\"\"\n",
        "    You are a sports event{event} summarizer for football (soccer) matches.\n",
        "    You analyze live tweets and output structured JSON with only *unique, confirmed match events*.\n",
        "\n",
        "    Rules:\n",
        "    - Detect and record only confirmed events as well as the player in question:\n",
        "      goal, disallowed goal (after VAR/offside confirmation), yellow card, red card, substitution, injury, shot on goal, save, half-time, full-time.\n",
        "    - Ignore non-events such as: VAR checking (before decision), near misses, fan reactions, speculation, or commentary without an actual event.\n",
        "    - If a tweet includes the event time (e.g., \"45+2’\", \"70th min\"), extract it and include it.\n",
        "    - If the match ends (Full Time, FT, End of Match, final whistle), record it as the last event (only once).\n",
        "    - Be concise (one short sentence per event).\n",
        "    - Always return valid JSON only in this format:\n",
        "\n",
        "    Return only valid JSON with double quotes, no explanations.\n",
        "Format:\n",
        "      {{\"event\": {{\"time\": \"\", \"event\": \"text of the event\"}},\n",
        "         ...\n",
        "         \"event\": {{\"time\": \"\", \"event\": \"text of the event\"}}\n",
        "\n",
        "}}\n",
        "\n",
        "\n",
        "    \"\"\"\n",
        "\n",
        "    user_prompt = f\"\"\"\n",
        "\n",
        "    New tweets:\n",
        "    {new_tweets}\n",
        "\n",
        "    generate the events list with any new confirmed events only.\n",
        "    \"\"\"\n",
        "\n",
        "    messages = [\n",
        "        {\"role\": \"system\", \"content\": system_prompt},\n",
        "        {\"role\": \"user\", \"content\": user_prompt}\n",
        "    ]\n",
        "\n",
        "    response=generate_response(messages)\n",
        "\n",
        "    return response"
      ]
    },
    {
      "cell_type": "code",
      "execution_count": null,
      "id": "cda30187",
      "metadata": {
        "id": "cda30187"
      },
      "outputs": [],
      "source": [
        "def get_sum(events):\n",
        "  system_prompt = \"\"\"\n",
        "You are a football match summarizer and stats updater.\n",
        "\n",
        "Input:\n",
        "- A list of confirmed match events .\n",
        "- The current stats dictionary.\n",
        "\n",
        "Tasks:\n",
        "1. Write a short neutral summary of the events .\n",
        "2. Update the stats dictionary by incrementing only the values that match the new events.\n",
        "\n",
        "Rules:\n",
        "- Track these stats:\n",
        "  yellow_cards, offsides, blocked_shots, shots_on_goal, shots_off_goal, goalkeeper_saves.\n",
        "- Goals are mentioned in the summary but not counted in these stats.\n",
        "- Only increment stats for new events. Do not reset or decrease values.\n",
        "- If no events happened, summary should be: \"No major events in this period.\"\n",
        "- Always return JSON with two fields:\n",
        "  {\n",
        "    \"summary\": \"...\",\n",
        "    \"stats\": { ... }\n",
        "  }\n",
        "    \"\"\"\n",
        "\n",
        "  user_prompt = f\"\"\"\n",
        "    Events in the last 5 minutes:\n",
        "Events:\n",
        "{events}\n",
        "\n",
        "\n",
        "Generate the summary and updated stats.\n",
        "    \"\"\"\n",
        "\n",
        "  messages = [\n",
        "        {\"role\": \"system\", \"content\": system_prompt},\n",
        "        {\"role\": \"user\", \"content\": user_prompt}\n",
        "    ]\n",
        "\n",
        "  response=generate_response(messages)\n",
        "  print(response)\n",
        "  return response\n"
      ]
    },
    {
      "cell_type": "code",
      "execution_count": null,
      "id": "85cacd3c",
      "metadata": {
        "id": "85cacd3c"
      },
      "outputs": [],
      "source": [
        "def read_in_batches(file_path: str, batch_size: int = 50):\n",
        "    with open(file_path, \"r\", encoding=\"utf-8\") as f:\n",
        "        lines = [line.strip() for line in f if line.strip()]  # clean & skip empty lines\n",
        "\n",
        "    # Split into batches of N lines\n",
        "    for i in range(0, len(lines), batch_size):\n",
        "        yield lines[i:i+batch_size]\n",
        "\n",
        "\n",
        "events = {}\n",
        "min_events = {}\n",
        "\n",
        "stats = {\n",
        "  \"yellow_cards\": 0,\n",
        "  \"offsides\": 0,\n",
        "  \"blocked_shots\": 0,\n",
        "  \"shots_on_goal\": 0,\n",
        "  \"shots_off_goal\": 0,\n",
        "  \"goalkeeper_saves\": 0\n",
        "}"
      ]
    },
    {
      "cell_type": "code",
      "execution_count": null,
      "id": "501a80b1",
      "metadata": {
        "id": "501a80b1"
      },
      "outputs": [],
      "source": [
        "\n",
        "file_path = \"New-Text-Document.txt\"\n",
        "\n",
        "for idx, batch in enumerate(read_in_batches(file_path, batch_size=50), start=1):\n",
        "    print(events)\n",
        "    inst_event = gen_events(batch)\n",
        "    inst_eventw = re.sub(r\"```json|```|'''\", '', inst_event).strip()\n",
        "    inst_event = json.loads(inst_eventw)\n",
        "    print('inst_event', inst_event)\n",
        "    if inst_event != {}:\n",
        "      update_events(inst_event)\n",
        "      print('events', events)\n",
        "\n",
        "\n"
      ]
    }
  ],
  "metadata": {
    "kernelspec": {
      "display_name": "base",
      "language": "python",
      "name": "python3"
    },
    "language_info": {
      "codemirror_mode": {
        "name": "ipython",
        "version": 3
      },
      "file_extension": ".py",
      "mimetype": "text/x-python",
      "name": "python",
      "nbconvert_exporter": "python",
      "pygments_lexer": "ipython3",
      "version": "3.12.7"
    },
    "colab": {
      "provenance": []
    }
  },
  "nbformat": 4,
  "nbformat_minor": 5
}